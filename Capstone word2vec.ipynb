{
 "cells": [
  {
   "cell_type": "code",
   "execution_count": 1,
   "metadata": {
    "collapsed": true
   },
   "outputs": [],
   "source": [
    "import pandas as pd\n",
    "import numpy as np \n",
    "import itertools as it\n",
    "% matplotlib inline\n",
    "import matplotlib.pyplot as plt\n",
    "from gensim.models import Word2Vec\n",
    "from gensim.models import KeyedVectors"
   ]
  },
  {
   "cell_type": "code",
   "execution_count": 2,
   "metadata": {
    "collapsed": true
   },
   "outputs": [],
   "source": [
    "import pickle\n",
    "import time"
   ]
  },
  {
   "cell_type": "code",
   "execution_count": 3,
   "metadata": {
    "collapsed": true
   },
   "outputs": [],
   "source": [
    "from sklearn.feature_extraction.text import TfidfVectorizer\n",
    "from sklearn.model_selection import train_test_split\n",
    "from sklearn.naive_bayes import MultinomialNB\n",
    "from sklearn.pipeline import Pipeline\n",
    "from sklearn.model_selection import GridSearchCV\n",
    "from sklearn import metrics\n",
    "from sklearn.model_selection import cross_val_score\n",
    "from sklearn.linear_model import LogisticRegression\n",
    "from sklearn.ensemble import RandomForestClassifier\n",
    "from sklearn.neighbors import KNeighborsClassifier\n",
    "from sklearn.svm import SVC\n",
    "from sklearn.metrics import confusion_matrix"
   ]
  },
  {
   "cell_type": "markdown",
   "metadata": {},
   "source": [
    "## Loading the data"
   ]
  },
  {
   "cell_type": "code",
   "execution_count": 4,
   "metadata": {},
   "outputs": [],
   "source": [
    "model = KeyedVectors.load_word2vec_format('./Goog/GoogleNews-vectors-negative300.bin', binary=True)"
   ]
  },
  {
   "cell_type": "code",
   "execution_count": 5,
   "metadata": {
    "collapsed": true
   },
   "outputs": [],
   "source": [
    "clean_final = pd.read_csv(\"./total_news/clean_final_news.csv\", encoding = \"utf8\", index_col = 0)"
   ]
  },
  {
   "cell_type": "code",
   "execution_count": 6,
   "metadata": {},
   "outputs": [
    {
     "data": {
      "text/html": [
       "<div>\n",
       "<style>\n",
       "    .dataframe thead tr:only-child th {\n",
       "        text-align: right;\n",
       "    }\n",
       "\n",
       "    .dataframe thead th {\n",
       "        text-align: left;\n",
       "    }\n",
       "\n",
       "    .dataframe tbody tr th {\n",
       "        vertical-align: top;\n",
       "    }\n",
       "</style>\n",
       "<table border=\"1\" class=\"dataframe\">\n",
       "  <thead>\n",
       "    <tr style=\"text-align: right;\">\n",
       "      <th></th>\n",
       "      <th>author</th>\n",
       "      <th>published</th>\n",
       "      <th>text</th>\n",
       "      <th>domain_rank</th>\n",
       "      <th>site_url</th>\n",
       "      <th>spam_score</th>\n",
       "      <th>title</th>\n",
       "      <th>response</th>\n",
       "      <th>length</th>\n",
       "    </tr>\n",
       "  </thead>\n",
       "  <tbody>\n",
       "    <tr>\n",
       "      <th>0</th>\n",
       "      <td>SAM TANENHAUS</td>\n",
       "      <td>2016-11-20T03:51:00.000+02:00</td>\n",
       "      <td>Privacy Policy Eisenhowers two terms bore this...</td>\n",
       "      <td>98.0</td>\n",
       "      <td>nytimes.com</td>\n",
       "      <td>0.000</td>\n",
       "      <td>Opinion: Donald Trump’s Art of the New Deal?</td>\n",
       "      <td>Not fake</td>\n",
       "      <td>949</td>\n",
       "    </tr>\n",
       "    <tr>\n",
       "      <th>1</th>\n",
       "      <td>NaN</td>\n",
       "      <td>2016-11-20T00:52:00.000+02:00</td>\n",
       "      <td>Can Trump Save Their Jobs?  by Nelson D. Sc...</td>\n",
       "      <td>98.0</td>\n",
       "      <td>nytimes.com</td>\n",
       "      <td>0.000</td>\n",
       "      <td>Carrier Workers for Trump</td>\n",
       "      <td>Not fake</td>\n",
       "      <td>372</td>\n",
       "    </tr>\n",
       "    <tr>\n",
       "      <th>2</th>\n",
       "      <td>Kathleen Elkins</td>\n",
       "      <td>2016-11-20T06:18:00.000+02:00</td>\n",
       "      <td>Tuesday, 18 Oct 2016 | 10:25 AM ET CNBC.com Ed...</td>\n",
       "      <td>767.0</td>\n",
       "      <td>cnbc.com</td>\n",
       "      <td>0.008</td>\n",
       "      <td>Tennis star Caroline Wozniacki shares the mone...</td>\n",
       "      <td>Not fake</td>\n",
       "      <td>386</td>\n",
       "    </tr>\n",
       "    <tr>\n",
       "      <th>3</th>\n",
       "      <td>JEFF SOMMER</td>\n",
       "      <td>2016-11-20T00:04:00.000+02:00</td>\n",
       "      <td>Continue reading the main story Yet it is poss...</td>\n",
       "      <td>98.0</td>\n",
       "      <td>nytimes.com</td>\n",
       "      <td>0.000</td>\n",
       "      <td>Strategies: It’s Not Just the White House. Cha...</td>\n",
       "      <td>Not fake</td>\n",
       "      <td>1005</td>\n",
       "    </tr>\n",
       "    <tr>\n",
       "      <th>4</th>\n",
       "      <td>James Rufus Koren</td>\n",
       "      <td>2016-11-20T02:42:00.000+02:00</td>\n",
       "      <td>Wells Fargo hit with new sanctions following f...</td>\n",
       "      <td>609.0</td>\n",
       "      <td>latimes.com</td>\n",
       "      <td>0.264</td>\n",
       "      <td>Wells Fargo hit with new sanctions following f...</td>\n",
       "      <td>Not fake</td>\n",
       "      <td>809</td>\n",
       "    </tr>\n",
       "  </tbody>\n",
       "</table>\n",
       "</div>"
      ],
      "text/plain": [
       "              author                      published  \\\n",
       "0      SAM TANENHAUS  2016-11-20T03:51:00.000+02:00   \n",
       "1                NaN  2016-11-20T00:52:00.000+02:00   \n",
       "2    Kathleen Elkins  2016-11-20T06:18:00.000+02:00   \n",
       "3        JEFF SOMMER  2016-11-20T00:04:00.000+02:00   \n",
       "4  James Rufus Koren  2016-11-20T02:42:00.000+02:00   \n",
       "\n",
       "                                                text  domain_rank  \\\n",
       "0  Privacy Policy Eisenhowers two terms bore this...         98.0   \n",
       "1     Can Trump Save Their Jobs?  by Nelson D. Sc...         98.0   \n",
       "2  Tuesday, 18 Oct 2016 | 10:25 AM ET CNBC.com Ed...        767.0   \n",
       "3  Continue reading the main story Yet it is poss...         98.0   \n",
       "4  Wells Fargo hit with new sanctions following f...        609.0   \n",
       "\n",
       "      site_url  spam_score                                              title  \\\n",
       "0  nytimes.com       0.000       Opinion: Donald Trump’s Art of the New Deal?   \n",
       "1  nytimes.com       0.000                          Carrier Workers for Trump   \n",
       "2     cnbc.com       0.008  Tennis star Caroline Wozniacki shares the mone...   \n",
       "3  nytimes.com       0.000  Strategies: It’s Not Just the White House. Cha...   \n",
       "4  latimes.com       0.264  Wells Fargo hit with new sanctions following f...   \n",
       "\n",
       "   response  length  \n",
       "0  Not fake     949  \n",
       "1  Not fake     372  \n",
       "2  Not fake     386  \n",
       "3  Not fake    1005  \n",
       "4  Not fake     809  "
      ]
     },
     "execution_count": 6,
     "metadata": {},
     "output_type": "execute_result"
    }
   ],
   "source": [
    "clean_final.head()"
   ]
  },
  {
   "cell_type": "code",
   "execution_count": 12,
   "metadata": {},
   "outputs": [],
   "source": [
    "fileObject = open('./lem_texts/uni_text.sav','rb')  \n",
    "uni_lem_comb2 = pickle.load(fileObject)  ## load unigram"
   ]
  },
  {
   "cell_type": "code",
   "execution_count": 11,
   "metadata": {},
   "outputs": [],
   "source": [
    "fileObject = open('./lem_texts/tri_text.sav','rb')  \n",
    "tri_lem_comb2 = pickle.load(fileObject)  ## load trigram"
   ]
  },
  {
   "cell_type": "code",
   "execution_count": 13,
   "metadata": {},
   "outputs": [
    {
     "data": {
      "text/plain": [
       "0    privacy policy eisenhowers term bear instead u...\n",
       "1    trump save jobs nelson d. schwartz nov. look w...\n",
       "2    tuesday oct 10:25 et cnbc.com eduardo munoz al...\n",
       "3    continue read main story possible election rem...\n",
       "4    wells fargo hit new sanction follow fake accou...\n",
       "5    privacy policy liberal society depend illibera...\n",
       "6    let friend social network know read facebook e...\n",
       "7    privacy policy lot people tonight feel like lo...\n",
       "8    young barber brazil cutting away traditional b...\n",
       "9    passenger train go track near northern indian ...\n",
       "dtype: object"
      ]
     },
     "execution_count": 13,
     "metadata": {},
     "output_type": "execute_result"
    }
   ],
   "source": [
    "uni_lem = pd.Series([x for x in uni_lem_comb2])\n",
    "uni_lem[0:10]"
   ]
  },
  {
   "cell_type": "code",
   "execution_count": 14,
   "metadata": {},
   "outputs": [
    {
     "data": {
      "text/plain": [
       "0    privacy_policy eisenhowers term bear instead u...\n",
       "1    trump save jobs nelson d. schwartz nov. look w...\n",
       "2    tuesday oct 10:25 et cnbc.com eduardo_munoz_al...\n",
       "3    continue_read_main_story possible election rem...\n",
       "4    wells_fargo hit new sanction follow fake_accou...\n",
       "5    privacy_policy liberal society depend illibera...\n",
       "6    let_friend_social_network know_read_facebook e...\n",
       "7    privacy_policy lot_people tonight feel_like lo...\n",
       "8    young barber brazil cutting away traditional b...\n",
       "9    passenger_train go track near northern indian ...\n",
       "dtype: object"
      ]
     },
     "execution_count": 14,
     "metadata": {},
     "output_type": "execute_result"
    }
   ],
   "source": [
    "tri_lem = pd.Series([x for x in tri_lem_comb2])\n",
    "tri_lem[0:10]"
   ]
  },
  {
   "cell_type": "markdown",
   "metadata": {},
   "source": [
    "## Converting the text into vectors"
   ]
  },
  {
   "cell_type": "code",
   "execution_count": 7,
   "metadata": {},
   "outputs": [
    {
     "name": "stderr",
     "output_type": "stream",
     "text": [
      "/Users/mikeghoul/anaconda/envs/py35/lib/python3.5/site-packages/pandas/core/generic.py:2999: SettingWithCopyWarning: \n",
      "A value is trying to be set on a copy of a slice from a DataFrame.\n",
      "Try using .loc[row_indexer,col_indexer] = value instead\n",
      "\n",
      "See the caveats in the documentation: http://pandas.pydata.org/pandas-docs/stable/indexing.html#indexing-view-versus-copy\n",
      "  self[name] = value\n"
     ]
    },
    {
     "data": {
      "text/html": [
       "<div>\n",
       "<style>\n",
       "    .dataframe thead tr:only-child th {\n",
       "        text-align: right;\n",
       "    }\n",
       "\n",
       "    .dataframe thead th {\n",
       "        text-align: left;\n",
       "    }\n",
       "\n",
       "    .dataframe tbody tr th {\n",
       "        vertical-align: top;\n",
       "    }\n",
       "</style>\n",
       "<table border=\"1\" class=\"dataframe\">\n",
       "  <thead>\n",
       "    <tr style=\"text-align: right;\">\n",
       "      <th></th>\n",
       "      <th>author</th>\n",
       "      <th>published</th>\n",
       "      <th>text</th>\n",
       "      <th>domain_rank</th>\n",
       "      <th>site_url</th>\n",
       "      <th>spam_score</th>\n",
       "      <th>title</th>\n",
       "      <th>response</th>\n",
       "      <th>length</th>\n",
       "    </tr>\n",
       "  </thead>\n",
       "  <tbody>\n",
       "    <tr>\n",
       "      <th>0</th>\n",
       "      <td>SAM TANENHAUS</td>\n",
       "      <td>2016-11-20T03:51:00.000+02:00</td>\n",
       "      <td>[0.0410616, 0.0443374, 0.0329776, 0.0611348, -...</td>\n",
       "      <td>98.0</td>\n",
       "      <td>nytimes.com</td>\n",
       "      <td>0.000</td>\n",
       "      <td>Opinion: Donald Trump’s Art of the New Deal?</td>\n",
       "      <td>Not fake</td>\n",
       "      <td>949</td>\n",
       "    </tr>\n",
       "    <tr>\n",
       "      <th>1</th>\n",
       "      <td>NaN</td>\n",
       "      <td>2016-11-20T00:52:00.000+02:00</td>\n",
       "      <td>[0.0345326, 0.0364513, 0.0196588, 0.0763706, -...</td>\n",
       "      <td>98.0</td>\n",
       "      <td>nytimes.com</td>\n",
       "      <td>0.000</td>\n",
       "      <td>Carrier Workers for Trump</td>\n",
       "      <td>Not fake</td>\n",
       "      <td>372</td>\n",
       "    </tr>\n",
       "    <tr>\n",
       "      <th>2</th>\n",
       "      <td>Kathleen Elkins</td>\n",
       "      <td>2016-11-20T06:18:00.000+02:00</td>\n",
       "      <td>[0.0474658, 0.00713334, 0.0312889, 0.0871276, ...</td>\n",
       "      <td>767.0</td>\n",
       "      <td>cnbc.com</td>\n",
       "      <td>0.008</td>\n",
       "      <td>Tennis star Caroline Wozniacki shares the mone...</td>\n",
       "      <td>Not fake</td>\n",
       "      <td>386</td>\n",
       "    </tr>\n",
       "    <tr>\n",
       "      <th>3</th>\n",
       "      <td>JEFF SOMMER</td>\n",
       "      <td>2016-11-20T00:04:00.000+02:00</td>\n",
       "      <td>[0.0167984, 0.0344597, 0.0157176, 0.0664391, -...</td>\n",
       "      <td>98.0</td>\n",
       "      <td>nytimes.com</td>\n",
       "      <td>0.000</td>\n",
       "      <td>Strategies: It’s Not Just the White House. Cha...</td>\n",
       "      <td>Not fake</td>\n",
       "      <td>1005</td>\n",
       "    </tr>\n",
       "    <tr>\n",
       "      <th>4</th>\n",
       "      <td>James Rufus Koren</td>\n",
       "      <td>2016-11-20T02:42:00.000+02:00</td>\n",
       "      <td>[-0.000221085, 0.0416317, 0.03043, 0.0444352, ...</td>\n",
       "      <td>609.0</td>\n",
       "      <td>latimes.com</td>\n",
       "      <td>0.264</td>\n",
       "      <td>Wells Fargo hit with new sanctions following f...</td>\n",
       "      <td>Not fake</td>\n",
       "      <td>809</td>\n",
       "    </tr>\n",
       "  </tbody>\n",
       "</table>\n",
       "</div>"
      ],
      "text/plain": [
       "              author                      published  \\\n",
       "0      SAM TANENHAUS  2016-11-20T03:51:00.000+02:00   \n",
       "1                NaN  2016-11-20T00:52:00.000+02:00   \n",
       "2    Kathleen Elkins  2016-11-20T06:18:00.000+02:00   \n",
       "3        JEFF SOMMER  2016-11-20T00:04:00.000+02:00   \n",
       "4  James Rufus Koren  2016-11-20T02:42:00.000+02:00   \n",
       "\n",
       "                                                text  domain_rank  \\\n",
       "0  [0.0410616, 0.0443374, 0.0329776, 0.0611348, -...         98.0   \n",
       "1  [0.0345326, 0.0364513, 0.0196588, 0.0763706, -...         98.0   \n",
       "2  [0.0474658, 0.00713334, 0.0312889, 0.0871276, ...        767.0   \n",
       "3  [0.0167984, 0.0344597, 0.0157176, 0.0664391, -...         98.0   \n",
       "4  [-0.000221085, 0.0416317, 0.03043, 0.0444352, ...        609.0   \n",
       "\n",
       "      site_url  spam_score                                              title  \\\n",
       "0  nytimes.com       0.000       Opinion: Donald Trump’s Art of the New Deal?   \n",
       "1  nytimes.com       0.000                          Carrier Workers for Trump   \n",
       "2     cnbc.com       0.008  Tennis star Caroline Wozniacki shares the mone...   \n",
       "3  nytimes.com       0.000  Strategies: It’s Not Just the White House. Cha...   \n",
       "4  latimes.com       0.264  Wells Fargo hit with new sanctions following f...   \n",
       "\n",
       "   response  length  \n",
       "0  Not fake     949  \n",
       "1  Not fake     372  \n",
       "2  Not fake     386  \n",
       "3  Not fake    1005  \n",
       "4  Not fake     809  "
      ]
     },
     "execution_count": 7,
     "metadata": {},
     "output_type": "execute_result"
    }
   ],
   "source": [
    "def infer_vector(text):\n",
    "    text = text.split()\n",
    "    vector = []\n",
    "    for i in text:\n",
    "        try:\n",
    "            vector.append(model.word_vec(i))\n",
    "        except:\n",
    "            pass\n",
    "    return list(np.mean(vector, axis=0))\n",
    "\n",
    "test = clean_final.iloc[:10, :]\n",
    "test.text = test.text.apply(infer_vector)\n",
    "test.head()"
   ]
  },
  {
   "cell_type": "code",
   "execution_count": 15,
   "metadata": {},
   "outputs": [
    {
     "name": "stdout",
     "output_type": "stream",
     "text": [
      "CPU times: user 21.9 s, sys: 484 ms, total: 22.4 s\n",
      "Wall time: 22.4 s\n"
     ]
    }
   ],
   "source": [
    "%%time\n",
    "vec_text = tri_lem.apply(infer_vector)\n",
    "type(vec_text)"
   ]
  },
  {
   "cell_type": "code",
   "execution_count": 16,
   "metadata": {},
   "outputs": [
    {
     "data": {
      "text/plain": [
       "0    [0.0335845, 0.0401085, 0.00729215, 0.112954, -...\n",
       "1    [0.0324782, 0.00438509, -0.00248873, 0.1, -0.0...\n",
       "dtype: object"
      ]
     },
     "execution_count": 16,
     "metadata": {},
     "output_type": "execute_result"
    }
   ],
   "source": [
    "vec_text[0:2]"
   ]
  },
  {
   "cell_type": "code",
   "execution_count": 17,
   "metadata": {},
   "outputs": [
    {
     "name": "stdout",
     "output_type": "stream",
     "text": [
      "CPU times: user 3.07 s, sys: 143 ms, total: 3.21 s\n",
      "Wall time: 3.22 s\n"
     ]
    }
   ],
   "source": [
    "%%time\n",
    "vec_text = pd.DataFrame(list(map(lambda x: list(x), vec_text)))"
   ]
  },
  {
   "cell_type": "code",
   "execution_count": 18,
   "metadata": {},
   "outputs": [
    {
     "data": {
      "text/html": [
       "<div>\n",
       "<style>\n",
       "    .dataframe thead tr:only-child th {\n",
       "        text-align: right;\n",
       "    }\n",
       "\n",
       "    .dataframe thead th {\n",
       "        text-align: left;\n",
       "    }\n",
       "\n",
       "    .dataframe tbody tr th {\n",
       "        vertical-align: top;\n",
       "    }\n",
       "</style>\n",
       "<table border=\"1\" class=\"dataframe\">\n",
       "  <thead>\n",
       "    <tr style=\"text-align: right;\">\n",
       "      <th></th>\n",
       "      <th>0</th>\n",
       "      <th>1</th>\n",
       "      <th>2</th>\n",
       "      <th>3</th>\n",
       "      <th>4</th>\n",
       "      <th>5</th>\n",
       "      <th>6</th>\n",
       "      <th>7</th>\n",
       "      <th>8</th>\n",
       "      <th>9</th>\n",
       "      <th>...</th>\n",
       "      <th>290</th>\n",
       "      <th>291</th>\n",
       "      <th>292</th>\n",
       "      <th>293</th>\n",
       "      <th>294</th>\n",
       "      <th>295</th>\n",
       "      <th>296</th>\n",
       "      <th>297</th>\n",
       "      <th>298</th>\n",
       "      <th>299</th>\n",
       "    </tr>\n",
       "  </thead>\n",
       "  <tbody>\n",
       "    <tr>\n",
       "      <th>0</th>\n",
       "      <td>0.033585</td>\n",
       "      <td>0.040108</td>\n",
       "      <td>0.007292</td>\n",
       "      <td>0.112954</td>\n",
       "      <td>-0.060914</td>\n",
       "      <td>-0.029191</td>\n",
       "      <td>0.048299</td>\n",
       "      <td>-0.058155</td>\n",
       "      <td>0.084398</td>\n",
       "      <td>0.059573</td>\n",
       "      <td>...</td>\n",
       "      <td>-0.068472</td>\n",
       "      <td>0.014620</td>\n",
       "      <td>-0.037333</td>\n",
       "      <td>-0.016348</td>\n",
       "      <td>-0.042939</td>\n",
       "      <td>-0.021002</td>\n",
       "      <td>0.017126</td>\n",
       "      <td>-0.048978</td>\n",
       "      <td>0.026031</td>\n",
       "      <td>-0.012229</td>\n",
       "    </tr>\n",
       "    <tr>\n",
       "      <th>1</th>\n",
       "      <td>0.032478</td>\n",
       "      <td>0.004385</td>\n",
       "      <td>-0.002489</td>\n",
       "      <td>0.100000</td>\n",
       "      <td>-0.071105</td>\n",
       "      <td>0.017676</td>\n",
       "      <td>0.060257</td>\n",
       "      <td>-0.050939</td>\n",
       "      <td>0.085788</td>\n",
       "      <td>0.046210</td>\n",
       "      <td>...</td>\n",
       "      <td>-0.041618</td>\n",
       "      <td>0.035648</td>\n",
       "      <td>-0.075665</td>\n",
       "      <td>0.011646</td>\n",
       "      <td>-0.007537</td>\n",
       "      <td>-0.012843</td>\n",
       "      <td>0.009767</td>\n",
       "      <td>-0.057980</td>\n",
       "      <td>0.025834</td>\n",
       "      <td>-0.028797</td>\n",
       "    </tr>\n",
       "    <tr>\n",
       "      <th>2</th>\n",
       "      <td>0.025310</td>\n",
       "      <td>0.012568</td>\n",
       "      <td>-0.010649</td>\n",
       "      <td>0.128698</td>\n",
       "      <td>-0.019919</td>\n",
       "      <td>0.007436</td>\n",
       "      <td>0.079936</td>\n",
       "      <td>-0.088572</td>\n",
       "      <td>0.069966</td>\n",
       "      <td>0.069574</td>\n",
       "      <td>...</td>\n",
       "      <td>-0.024976</td>\n",
       "      <td>0.074644</td>\n",
       "      <td>-0.064599</td>\n",
       "      <td>-0.001808</td>\n",
       "      <td>-0.013263</td>\n",
       "      <td>-0.095344</td>\n",
       "      <td>0.019082</td>\n",
       "      <td>-0.031374</td>\n",
       "      <td>0.001696</td>\n",
       "      <td>-0.029502</td>\n",
       "    </tr>\n",
       "    <tr>\n",
       "      <th>3</th>\n",
       "      <td>0.014668</td>\n",
       "      <td>0.020092</td>\n",
       "      <td>-0.030602</td>\n",
       "      <td>0.084360</td>\n",
       "      <td>-0.075278</td>\n",
       "      <td>-0.041485</td>\n",
       "      <td>0.052998</td>\n",
       "      <td>-0.080511</td>\n",
       "      <td>0.135734</td>\n",
       "      <td>0.066690</td>\n",
       "      <td>...</td>\n",
       "      <td>-0.075238</td>\n",
       "      <td>0.038700</td>\n",
       "      <td>-0.017733</td>\n",
       "      <td>-0.010239</td>\n",
       "      <td>-0.012920</td>\n",
       "      <td>-0.022788</td>\n",
       "      <td>-0.006968</td>\n",
       "      <td>0.010951</td>\n",
       "      <td>0.034321</td>\n",
       "      <td>-0.001688</td>\n",
       "    </tr>\n",
       "    <tr>\n",
       "      <th>4</th>\n",
       "      <td>-0.042439</td>\n",
       "      <td>-0.012939</td>\n",
       "      <td>0.006611</td>\n",
       "      <td>0.042099</td>\n",
       "      <td>-0.026948</td>\n",
       "      <td>-0.040657</td>\n",
       "      <td>0.047994</td>\n",
       "      <td>-0.022462</td>\n",
       "      <td>0.121271</td>\n",
       "      <td>0.019877</td>\n",
       "      <td>...</td>\n",
       "      <td>-0.023605</td>\n",
       "      <td>0.059983</td>\n",
       "      <td>-0.021047</td>\n",
       "      <td>0.013978</td>\n",
       "      <td>-0.017887</td>\n",
       "      <td>-0.008069</td>\n",
       "      <td>-0.001654</td>\n",
       "      <td>-0.020538</td>\n",
       "      <td>0.010296</td>\n",
       "      <td>-0.045819</td>\n",
       "    </tr>\n",
       "  </tbody>\n",
       "</table>\n",
       "<p>5 rows × 300 columns</p>\n",
       "</div>"
      ],
      "text/plain": [
       "        0         1         2         3         4         5         6    \\\n",
       "0  0.033585  0.040108  0.007292  0.112954 -0.060914 -0.029191  0.048299   \n",
       "1  0.032478  0.004385 -0.002489  0.100000 -0.071105  0.017676  0.060257   \n",
       "2  0.025310  0.012568 -0.010649  0.128698 -0.019919  0.007436  0.079936   \n",
       "3  0.014668  0.020092 -0.030602  0.084360 -0.075278 -0.041485  0.052998   \n",
       "4 -0.042439 -0.012939  0.006611  0.042099 -0.026948 -0.040657  0.047994   \n",
       "\n",
       "        7         8         9      ...          290       291       292  \\\n",
       "0 -0.058155  0.084398  0.059573    ...    -0.068472  0.014620 -0.037333   \n",
       "1 -0.050939  0.085788  0.046210    ...    -0.041618  0.035648 -0.075665   \n",
       "2 -0.088572  0.069966  0.069574    ...    -0.024976  0.074644 -0.064599   \n",
       "3 -0.080511  0.135734  0.066690    ...    -0.075238  0.038700 -0.017733   \n",
       "4 -0.022462  0.121271  0.019877    ...    -0.023605  0.059983 -0.021047   \n",
       "\n",
       "        293       294       295       296       297       298       299  \n",
       "0 -0.016348 -0.042939 -0.021002  0.017126 -0.048978  0.026031 -0.012229  \n",
       "1  0.011646 -0.007537 -0.012843  0.009767 -0.057980  0.025834 -0.028797  \n",
       "2 -0.001808 -0.013263 -0.095344  0.019082 -0.031374  0.001696 -0.029502  \n",
       "3 -0.010239 -0.012920 -0.022788 -0.006968  0.010951  0.034321 -0.001688  \n",
       "4  0.013978 -0.017887 -0.008069 -0.001654 -0.020538  0.010296 -0.045819  \n",
       "\n",
       "[5 rows x 300 columns]"
      ]
     },
     "execution_count": 18,
     "metadata": {},
     "output_type": "execute_result"
    }
   ],
   "source": [
    "vec_text.head()"
   ]
  },
  {
   "cell_type": "markdown",
   "metadata": {},
   "source": [
    "## Prepping for Model runs"
   ]
  },
  {
   "cell_type": "code",
   "execution_count": 20,
   "metadata": {
    "collapsed": true
   },
   "outputs": [],
   "source": [
    "clean_final[\"binary_response\"] = np.where(clean_final[\"response\"] == \"Not fake\", 0, 1)"
   ]
  },
  {
   "cell_type": "code",
   "execution_count": 21,
   "metadata": {},
   "outputs": [],
   "source": [
    "y_response = clean_final.binary_response.values"
   ]
  },
  {
   "cell_type": "code",
   "execution_count": 22,
   "metadata": {
    "collapsed": true
   },
   "outputs": [],
   "source": [
    "def evaluate_model(clf, actual, predicted):\n",
    "    report = metrics.classification_report(actual, predicted, target_names = [\"0\", \"1\"])\n",
    "    matrix = confusion_matrix(actual, predicted)\n",
    "    train_loss = metrics.log_loss(y_train, clf.predict_proba(x_train))\n",
    "    test_loss = metrics.log_loss(y_test, clf.predict_proba(x_test))\n",
    "    \n",
    "    print(\"Train score:\", train_loss)\n",
    "    print(\"Test score:\", test_loss)\n",
    "    print(\"Confusion Matrix\\n\", matrix)\n",
    "    print(\"Classification Report:\\n\", report)\n",
    "    \n",
    "    return test_loss"
   ]
  },
  {
   "cell_type": "code",
   "execution_count": 23,
   "metadata": {
    "collapsed": true
   },
   "outputs": [],
   "source": [
    "x_train, x_test, y_train, y_test = train_test_split(vec_text, y_response, test_size = 0.2, stratify = y_response)"
   ]
  },
  {
   "cell_type": "code",
   "execution_count": 24,
   "metadata": {},
   "outputs": [
    {
     "data": {
      "text/html": [
       "<div>\n",
       "<style>\n",
       "    .dataframe thead tr:only-child th {\n",
       "        text-align: right;\n",
       "    }\n",
       "\n",
       "    .dataframe thead th {\n",
       "        text-align: left;\n",
       "    }\n",
       "\n",
       "    .dataframe tbody tr th {\n",
       "        vertical-align: top;\n",
       "    }\n",
       "</style>\n",
       "<table border=\"1\" class=\"dataframe\">\n",
       "  <thead>\n",
       "    <tr style=\"text-align: right;\">\n",
       "      <th></th>\n",
       "      <th>0</th>\n",
       "      <th>1</th>\n",
       "      <th>2</th>\n",
       "      <th>3</th>\n",
       "      <th>4</th>\n",
       "      <th>5</th>\n",
       "      <th>6</th>\n",
       "      <th>7</th>\n",
       "      <th>8</th>\n",
       "      <th>9</th>\n",
       "      <th>...</th>\n",
       "      <th>290</th>\n",
       "      <th>291</th>\n",
       "      <th>292</th>\n",
       "      <th>293</th>\n",
       "      <th>294</th>\n",
       "      <th>295</th>\n",
       "      <th>296</th>\n",
       "      <th>297</th>\n",
       "      <th>298</th>\n",
       "      <th>299</th>\n",
       "    </tr>\n",
       "  </thead>\n",
       "  <tbody>\n",
       "    <tr>\n",
       "      <th>15337</th>\n",
       "      <td>0.024139</td>\n",
       "      <td>0.057428</td>\n",
       "      <td>-0.023096</td>\n",
       "      <td>0.060758</td>\n",
       "      <td>-0.014065</td>\n",
       "      <td>0.032443</td>\n",
       "      <td>0.026156</td>\n",
       "      <td>-0.141791</td>\n",
       "      <td>0.051922</td>\n",
       "      <td>0.036331</td>\n",
       "      <td>...</td>\n",
       "      <td>-0.015007</td>\n",
       "      <td>0.044455</td>\n",
       "      <td>-0.078512</td>\n",
       "      <td>-0.016917</td>\n",
       "      <td>-0.018819</td>\n",
       "      <td>-0.016878</td>\n",
       "      <td>0.000404</td>\n",
       "      <td>-0.074444</td>\n",
       "      <td>-0.000286</td>\n",
       "      <td>-0.008021</td>\n",
       "    </tr>\n",
       "    <tr>\n",
       "      <th>29853</th>\n",
       "      <td>0.000975</td>\n",
       "      <td>0.016791</td>\n",
       "      <td>0.037214</td>\n",
       "      <td>0.062590</td>\n",
       "      <td>-0.091887</td>\n",
       "      <td>-0.025060</td>\n",
       "      <td>0.055991</td>\n",
       "      <td>-0.078305</td>\n",
       "      <td>0.093893</td>\n",
       "      <td>0.015768</td>\n",
       "      <td>...</td>\n",
       "      <td>-0.041552</td>\n",
       "      <td>0.047071</td>\n",
       "      <td>-0.040111</td>\n",
       "      <td>0.015825</td>\n",
       "      <td>-0.058839</td>\n",
       "      <td>-0.029513</td>\n",
       "      <td>-0.075047</td>\n",
       "      <td>-0.030003</td>\n",
       "      <td>0.018380</td>\n",
       "      <td>0.062647</td>\n",
       "    </tr>\n",
       "    <tr>\n",
       "      <th>32806</th>\n",
       "      <td>-0.008659</td>\n",
       "      <td>0.020251</td>\n",
       "      <td>0.025705</td>\n",
       "      <td>0.088454</td>\n",
       "      <td>-0.082573</td>\n",
       "      <td>0.021149</td>\n",
       "      <td>0.067191</td>\n",
       "      <td>-0.093069</td>\n",
       "      <td>0.101118</td>\n",
       "      <td>0.061572</td>\n",
       "      <td>...</td>\n",
       "      <td>-0.033587</td>\n",
       "      <td>0.064462</td>\n",
       "      <td>-0.071282</td>\n",
       "      <td>-0.010957</td>\n",
       "      <td>-0.030271</td>\n",
       "      <td>-0.046133</td>\n",
       "      <td>-0.030366</td>\n",
       "      <td>-0.058680</td>\n",
       "      <td>0.044195</td>\n",
       "      <td>-0.014252</td>\n",
       "    </tr>\n",
       "    <tr>\n",
       "      <th>12786</th>\n",
       "      <td>0.008573</td>\n",
       "      <td>0.011314</td>\n",
       "      <td>0.025442</td>\n",
       "      <td>0.048172</td>\n",
       "      <td>-0.058044</td>\n",
       "      <td>-0.035242</td>\n",
       "      <td>0.064641</td>\n",
       "      <td>-0.052096</td>\n",
       "      <td>0.067983</td>\n",
       "      <td>0.049642</td>\n",
       "      <td>...</td>\n",
       "      <td>-0.026455</td>\n",
       "      <td>0.009235</td>\n",
       "      <td>-0.064152</td>\n",
       "      <td>0.017997</td>\n",
       "      <td>-0.013278</td>\n",
       "      <td>0.004693</td>\n",
       "      <td>-0.030965</td>\n",
       "      <td>-0.074453</td>\n",
       "      <td>0.044297</td>\n",
       "      <td>-0.012515</td>\n",
       "    </tr>\n",
       "    <tr>\n",
       "      <th>17931</th>\n",
       "      <td>0.018335</td>\n",
       "      <td>0.028327</td>\n",
       "      <td>0.029542</td>\n",
       "      <td>0.103806</td>\n",
       "      <td>-0.065309</td>\n",
       "      <td>-0.027456</td>\n",
       "      <td>0.022689</td>\n",
       "      <td>-0.069632</td>\n",
       "      <td>0.101524</td>\n",
       "      <td>0.053804</td>\n",
       "      <td>...</td>\n",
       "      <td>0.018608</td>\n",
       "      <td>0.019419</td>\n",
       "      <td>-0.056924</td>\n",
       "      <td>-0.030011</td>\n",
       "      <td>-0.031485</td>\n",
       "      <td>-0.095155</td>\n",
       "      <td>-0.015156</td>\n",
       "      <td>-0.064136</td>\n",
       "      <td>0.012906</td>\n",
       "      <td>0.011980</td>\n",
       "    </tr>\n",
       "  </tbody>\n",
       "</table>\n",
       "<p>5 rows × 300 columns</p>\n",
       "</div>"
      ],
      "text/plain": [
       "            0         1         2         3         4         5         6    \\\n",
       "15337  0.024139  0.057428 -0.023096  0.060758 -0.014065  0.032443  0.026156   \n",
       "29853  0.000975  0.016791  0.037214  0.062590 -0.091887 -0.025060  0.055991   \n",
       "32806 -0.008659  0.020251  0.025705  0.088454 -0.082573  0.021149  0.067191   \n",
       "12786  0.008573  0.011314  0.025442  0.048172 -0.058044 -0.035242  0.064641   \n",
       "17931  0.018335  0.028327  0.029542  0.103806 -0.065309 -0.027456  0.022689   \n",
       "\n",
       "            7         8         9      ...          290       291       292  \\\n",
       "15337 -0.141791  0.051922  0.036331    ...    -0.015007  0.044455 -0.078512   \n",
       "29853 -0.078305  0.093893  0.015768    ...    -0.041552  0.047071 -0.040111   \n",
       "32806 -0.093069  0.101118  0.061572    ...    -0.033587  0.064462 -0.071282   \n",
       "12786 -0.052096  0.067983  0.049642    ...    -0.026455  0.009235 -0.064152   \n",
       "17931 -0.069632  0.101524  0.053804    ...     0.018608  0.019419 -0.056924   \n",
       "\n",
       "            293       294       295       296       297       298       299  \n",
       "15337 -0.016917 -0.018819 -0.016878  0.000404 -0.074444 -0.000286 -0.008021  \n",
       "29853  0.015825 -0.058839 -0.029513 -0.075047 -0.030003  0.018380  0.062647  \n",
       "32806 -0.010957 -0.030271 -0.046133 -0.030366 -0.058680  0.044195 -0.014252  \n",
       "12786  0.017997 -0.013278  0.004693 -0.030965 -0.074453  0.044297 -0.012515  \n",
       "17931 -0.030011 -0.031485 -0.095155 -0.015156 -0.064136  0.012906  0.011980  \n",
       "\n",
       "[5 rows x 300 columns]"
      ]
     },
     "execution_count": 24,
     "metadata": {},
     "output_type": "execute_result"
    }
   ],
   "source": [
    "x_train.head()"
   ]
  },
  {
   "cell_type": "code",
   "execution_count": null,
   "metadata": {},
   "outputs": [],
   "source": [
    "# mean_w2v = MeanEmbeddingVectorizer(w2v).fit(x_train, y_train)"
   ]
  },
  {
   "cell_type": "code",
   "execution_count": null,
   "metadata": {},
   "outputs": [],
   "source": [
    "# m = mean_w2v.transform(x_train)"
   ]
  },
  {
   "cell_type": "code",
   "execution_count": null,
   "metadata": {},
   "outputs": [],
   "source": [
    "# m.shape"
   ]
  },
  {
   "cell_type": "markdown",
   "metadata": {},
   "source": [
    "## Logistic Regression"
   ]
  },
  {
   "cell_type": "code",
   "execution_count": 25,
   "metadata": {
    "collapsed": true
   },
   "outputs": [],
   "source": [
    "lr = LogisticRegression()"
   ]
  },
  {
   "cell_type": "code",
   "execution_count": 26,
   "metadata": {},
   "outputs": [
    {
     "name": "stdout",
     "output_type": "stream",
     "text": [
      "CPU times: user 1.64 s, sys: 59.5 ms, total: 1.7 s\n",
      "Wall time: 1.71 s\n"
     ]
    },
    {
     "data": {
      "text/plain": [
       "LogisticRegression(C=1.0, class_weight=None, dual=False, fit_intercept=True,\n",
       "          intercept_scaling=1, max_iter=100, multi_class='ovr', n_jobs=1,\n",
       "          penalty='l2', random_state=None, solver='liblinear', tol=0.0001,\n",
       "          verbose=0, warm_start=False)"
      ]
     },
     "execution_count": 26,
     "metadata": {},
     "output_type": "execute_result"
    }
   ],
   "source": [
    "%%time\n",
    "lr.fit(x_train, y_train)"
   ]
  },
  {
   "cell_type": "code",
   "execution_count": 27,
   "metadata": {
    "collapsed": true
   },
   "outputs": [],
   "source": [
    "lr_parameters = {#'tfidf__max_df': (0.75, 0.80, 0.85, 0.90, 0.95, 1.0),\\\n",
    "              #'tfidf__min_df': (0.001,0.01,0.1),\\\n",
    "               'penalty': ('l1','l2'),\\\n",
    "               'C': (0.01, 0.1, 1),\\\n",
    "               'class_weight': (None, 'balanced')}"
   ]
  },
  {
   "cell_type": "code",
   "execution_count": 28,
   "metadata": {
    "collapsed": true
   },
   "outputs": [],
   "source": [
    "# Establish grid search instance\n",
    "wv_lr = GridSearchCV(lr, lr_parameters, n_jobs=-1, scoring = 'f1')"
   ]
  },
  {
   "cell_type": "code",
   "execution_count": 29,
   "metadata": {},
   "outputs": [
    {
     "name": "stderr",
     "output_type": "stream",
     "text": [
      "/Users/mikeghoul/anaconda/envs/py35/lib/python3.5/site-packages/sklearn/metrics/classification.py:1113: UndefinedMetricWarning: F-score is ill-defined and being set to 0.0 due to no predicted samples.\n",
      "  'precision', 'predicted', average, warn_for)\n",
      "/Users/mikeghoul/anaconda/envs/py35/lib/python3.5/site-packages/sklearn/metrics/classification.py:1113: UndefinedMetricWarning: F-score is ill-defined and being set to 0.0 due to no predicted samples.\n",
      "  'precision', 'predicted', average, warn_for)\n",
      "/Users/mikeghoul/anaconda/envs/py35/lib/python3.5/site-packages/sklearn/metrics/classification.py:1113: UndefinedMetricWarning: F-score is ill-defined and being set to 0.0 due to no predicted samples.\n",
      "  'precision', 'predicted', average, warn_for)\n"
     ]
    },
    {
     "name": "stdout",
     "output_type": "stream",
     "text": [
      "CPU times: user 2min 23s, sys: 706 ms, total: 2min 24s\n",
      "Wall time: 4min 43s\n"
     ]
    }
   ],
   "source": [
    "%%time\n",
    "wv_lr = wv_lr.fit(x_train, y_train)"
   ]
  },
  {
   "cell_type": "code",
   "execution_count": 30,
   "metadata": {},
   "outputs": [
    {
     "data": {
      "text/plain": [
       "{'C': 1, 'class_weight': 'balanced', 'penalty': 'l1'}"
      ]
     },
     "execution_count": 30,
     "metadata": {},
     "output_type": "execute_result"
    }
   ],
   "source": [
    "wv_lr.best_params_"
   ]
  },
  {
   "cell_type": "code",
   "execution_count": 31,
   "metadata": {
    "collapsed": true
   },
   "outputs": [],
   "source": [
    "lr_predicted = wv_lr.predict(x_test)"
   ]
  },
  {
   "cell_type": "code",
   "execution_count": 32,
   "metadata": {},
   "outputs": [
    {
     "name": "stdout",
     "output_type": "stream",
     "text": [
      "Train score: 0.376870603259\n",
      "Test score: 0.381752578936\n",
      "Confusion Matrix\n",
      " [[3935  780]\n",
      " [ 353 1855]]\n",
      "Classification Report:\n",
      "              precision    recall  f1-score   support\n",
      "\n",
      "          0       0.92      0.83      0.87      4715\n",
      "          1       0.70      0.84      0.77      2208\n",
      "\n",
      "avg / total       0.85      0.84      0.84      6923\n",
      "\n",
      "CPU times: user 32.4 ms, sys: 5.31 ms, total: 37.7 ms\n",
      "Wall time: 30.5 ms\n"
     ]
    },
    {
     "data": {
      "text/plain": [
       "0.38175257893598102"
      ]
     },
     "execution_count": 32,
     "metadata": {},
     "output_type": "execute_result"
    }
   ],
   "source": [
    "%%time\n",
    "# Get more detailed performance metrics\n",
    "evaluate_model(wv_lr, y_test, lr_predicted)"
   ]
  },
  {
   "cell_type": "code",
   "execution_count": 33,
   "metadata": {},
   "outputs": [
    {
     "name": "stdout",
     "output_type": "stream",
     "text": [
      "Train score: 0.83463796266\n",
      "Test score: 0.837348665606\n"
     ]
    }
   ],
   "source": [
    "train_loss = metrics.roc_auc_score(y_train, wv_lr.predict(x_train))\n",
    "test_loss = metrics.roc_auc_score(y_test, wv_lr.predict(x_test))\n",
    "print(\"Train score:\", train_loss)\n",
    "print(\"Test score:\", test_loss)"
   ]
  },
  {
   "cell_type": "code",
   "execution_count": 35,
   "metadata": {},
   "outputs": [
    {
     "data": {
      "text/plain": [
       "<matplotlib.legend.Legend at 0x1f7e54b38>"
      ]
     },
     "execution_count": 35,
     "metadata": {},
     "output_type": "execute_result"
    },
    {
     "data": {
      "image/png": "[encoded data removed]",
      "text/plain": [
       "<matplotlib.figure.Figure at 0x1f7c94978>"
      ]
     },
     "metadata": {},
     "output_type": "display_data"
    }
   ],
   "source": [
    "import sklearn\n",
    "A=sklearn.metrics.roc_curve(y_train,wv_lr.predict(x_train),pos_label=1)\n",
    "B=sklearn.metrics.roc_curve(y_test,wv_lr.predict(x_test),pos_label=1)\n",
    "\n",
    "plt.plot(A[0],A[1],label='ROC NB Train')\n",
    "plt.plot(B[0],B[1],label='ROC NB Test')\n",
    "plt.xlim((-0.2,1.1))\n",
    "plt.ylim((-0.1,1.1))\n",
    "plt.legend(loc=4)"
   ]
  },
  {
   "cell_type": "code",
   "execution_count": 54,
   "metadata": {
    "collapsed": true
   },
   "outputs": [],
   "source": [
    "# saving lr model\n",
    "filename = 'wv_lr_model.sav'\n",
    "pickle.dump(wv_lr, open(filename, 'wb'))"
   ]
  },
  {
   "cell_type": "markdown",
   "metadata": {},
   "source": [
    "## SVM"
   ]
  },
  {
   "cell_type": "code",
   "execution_count": 36,
   "metadata": {
    "collapsed": true
   },
   "outputs": [],
   "source": [
    "from sklearn.svm import SVC\n",
    "svm = SVC()"
   ]
  },
  {
   "cell_type": "code",
   "execution_count": 37,
   "metadata": {},
   "outputs": [
    {
     "name": "stdout",
     "output_type": "stream",
     "text": [
      "CPU times: user 3min 4s, sys: 991 ms, total: 3min 5s\n",
      "Wall time: 3min 6s\n"
     ]
    },
    {
     "data": {
      "text/plain": [
       "SVC(C=1.0, cache_size=200, class_weight=None, coef0=0.0,\n",
       "  decision_function_shape=None, degree=3, gamma='auto', kernel='rbf',\n",
       "  max_iter=-1, probability=False, random_state=None, shrinking=True,\n",
       "  tol=0.001, verbose=False)"
      ]
     },
     "execution_count": 37,
     "metadata": {},
     "output_type": "execute_result"
    }
   ],
   "source": [
    "%%time\n",
    "svm.fit(x_train, y_train)"
   ]
  },
  {
   "cell_type": "code",
   "execution_count": 44,
   "metadata": {
    "collapsed": true
   },
   "outputs": [],
   "source": [
    "svm_parameters = {'C': (1, 10, 100, 1000),\\\n",
    "                 'degree': (1, 2, 3),\\\n",
    "                 'class_weight': (None, 'balanced')}"
   ]
  },
  {
   "cell_type": "code",
   "execution_count": 45,
   "metadata": {
    "collapsed": true
   },
   "outputs": [],
   "source": [
    "wv_svm = GridSearchCV(svm, svm_parameters, n_jobs=-1, scoring='f1')"
   ]
  },
  {
   "cell_type": "code",
   "execution_count": 46,
   "metadata": {},
   "outputs": [
    {
     "name": "stderr",
     "output_type": "stream",
     "text": [
      "/Users/mikeghoul/anaconda/envs/py35/lib/python3.5/site-packages/sklearn/metrics/classification.py:1113: UndefinedMetricWarning: F-score is ill-defined and being set to 0.0 due to no predicted samples.\n",
      "  'precision', 'predicted', average, warn_for)\n",
      "/Users/mikeghoul/anaconda/envs/py35/lib/python3.5/site-packages/sklearn/metrics/classification.py:1113: UndefinedMetricWarning: F-score is ill-defined and being set to 0.0 due to no predicted samples.\n",
      "  'precision', 'predicted', average, warn_for)\n",
      "/Users/mikeghoul/anaconda/envs/py35/lib/python3.5/site-packages/sklearn/metrics/classification.py:1113: UndefinedMetricWarning: F-score is ill-defined and being set to 0.0 due to no predicted samples.\n",
      "  'precision', 'predicted', average, warn_for)\n",
      "/Users/mikeghoul/anaconda/envs/py35/lib/python3.5/site-packages/sklearn/metrics/classification.py:1113: UndefinedMetricWarning: F-score is ill-defined and being set to 0.0 due to no predicted samples.\n",
      "  'precision', 'predicted', average, warn_for)\n",
      "/Users/mikeghoul/anaconda/envs/py35/lib/python3.5/site-packages/sklearn/metrics/classification.py:1113: UndefinedMetricWarning: F-score is ill-defined and being set to 0.0 due to no predicted samples.\n",
      "  'precision', 'predicted', average, warn_for)\n",
      "/Users/mikeghoul/anaconda/envs/py35/lib/python3.5/site-packages/sklearn/metrics/classification.py:1113: UndefinedMetricWarning: F-score is ill-defined and being set to 0.0 due to no predicted samples.\n",
      "  'precision', 'predicted', average, warn_for)\n",
      "/Users/mikeghoul/anaconda/envs/py35/lib/python3.5/site-packages/sklearn/metrics/classification.py:1113: UndefinedMetricWarning: F-score is ill-defined and being set to 0.0 due to no predicted samples.\n",
      "  'precision', 'predicted', average, warn_for)\n",
      "/Users/mikeghoul/anaconda/envs/py35/lib/python3.5/site-packages/sklearn/metrics/classification.py:1113: UndefinedMetricWarning: F-score is ill-defined and being set to 0.0 due to no predicted samples.\n",
      "  'precision', 'predicted', average, warn_for)\n",
      "/Users/mikeghoul/anaconda/envs/py35/lib/python3.5/site-packages/sklearn/metrics/classification.py:1113: UndefinedMetricWarning: F-score is ill-defined and being set to 0.0 due to no predicted samples.\n",
      "  'precision', 'predicted', average, warn_for)\n"
     ]
    },
    {
     "name": "stdout",
     "output_type": "stream",
     "text": [
      "CPU times: user 3min 1s, sys: 2.1 s, total: 3min 3s\n",
      "Wall time: 1h 9min 18s\n"
     ]
    }
   ],
   "source": [
    "%%time\n",
    "wv_svm = wv_svm.fit(x_train, y_train)"
   ]
  },
  {
   "cell_type": "code",
   "execution_count": 47,
   "metadata": {},
   "outputs": [
    {
     "data": {
      "text/plain": [
       "{'C': 1000, 'class_weight': 'balanced', 'degree': 1}"
      ]
     },
     "execution_count": 47,
     "metadata": {},
     "output_type": "execute_result"
    }
   ],
   "source": [
    "wv_svm.best_params_"
   ]
  },
  {
   "cell_type": "code",
   "execution_count": 48,
   "metadata": {
    "collapsed": true
   },
   "outputs": [],
   "source": [
    "svm_predicted = wv_svm.predict(x_test)"
   ]
  },
  {
   "cell_type": "code",
   "execution_count": 50,
   "metadata": {},
   "outputs": [
    {
     "name": "stdout",
     "output_type": "stream",
     "text": [
      "Confusion Matrix:\n",
      " [[3956  759]\n",
      " [ 346 1862]]\n",
      "Classification report:\n",
      "              precision    recall  f1-score   support\n",
      "\n",
      "          0       0.92      0.84      0.88      4715\n",
      "          1       0.71      0.84      0.77      2208\n",
      "\n",
      "avg / total       0.85      0.84      0.84      6923\n",
      "\n"
     ]
    }
   ],
   "source": [
    "# can't feed in proba for svm, log loss requires probability\n",
    "matrix = confusion_matrix(y_test, svm_predicted)\n",
    "report = metrics.classification_report(y_test, svm_predicted, target_names = ['0', '1'])\n",
    "print('Confusion Matrix:\\n', matrix)\n",
    "print('Classification report:\\n', report)"
   ]
  },
  {
   "cell_type": "code",
   "execution_count": 51,
   "metadata": {},
   "outputs": [
    {
     "name": "stdout",
     "output_type": "stream",
     "text": [
      "Train score: 0.842234437545\n",
      "Test score: 0.841160745847\n"
     ]
    }
   ],
   "source": [
    "train_loss = metrics.roc_auc_score(y_train, wv_svm.predict(x_train))\n",
    "test_loss = metrics.roc_auc_score(y_test, wv_svm.predict(x_test))\n",
    "print(\"Train score:\", train_loss)\n",
    "print(\"Test score:\", test_loss)"
   ]
  },
  {
   "cell_type": "code",
   "execution_count": 52,
   "metadata": {},
   "outputs": [
    {
     "data": {
      "text/plain": [
       "<matplotlib.legend.Legend at 0x1f7e72ef0>"
      ]
     },
     "execution_count": 52,
     "metadata": {},
     "output_type": "execute_result"
    },
    {
     "data": {
      "image/png": "[encoded data removed]",
      "text/plain": [
       "<matplotlib.figure.Figure at 0x107ed4320>"
      ]
     },
     "metadata": {},
     "output_type": "display_data"
    }
   ],
   "source": [
    "A=sklearn.metrics.roc_curve(y_train,wv_svm.predict(x_train),pos_label=1)\n",
    "B=sklearn.metrics.roc_curve(y_test,wv_svm.predict(x_test),pos_label=1)\n",
    "\n",
    "plt.plot(A[0],A[1],label='ROC NB Train')\n",
    "plt.plot(B[0],B[1],label='ROC NB Test')\n",
    "plt.xlim((-0.2,1.1))\n",
    "plt.ylim((-0.1,1.1))\n",
    "plt.legend(loc=4)"
   ]
  },
  {
   "cell_type": "code",
   "execution_count": 53,
   "metadata": {
    "collapsed": true
   },
   "outputs": [],
   "source": [
    "# saving svm model\n",
    "filename = 'wv_svm_model.sav'\n",
    "pickle.dump(wv_svm, open(filename, 'wb'))"
   ]
  },
  {
   "cell_type": "markdown",
   "metadata": {},
   "source": [
    "## Random Forest"
   ]
  },
  {
   "cell_type": "code",
   "execution_count": 55,
   "metadata": {
    "collapsed": true
   },
   "outputs": [],
   "source": [
    "from sklearn.ensemble import RandomForestClassifier\n",
    "\n",
    "rf = RandomForestClassifier()"
   ]
  },
  {
   "cell_type": "code",
   "execution_count": 56,
   "metadata": {},
   "outputs": [
    {
     "name": "stdout",
     "output_type": "stream",
     "text": [
      "CPU times: user 4.83 s, sys: 39.9 ms, total: 4.87 s\n",
      "Wall time: 4.9 s\n"
     ]
    },
    {
     "data": {
      "text/plain": [
       "RandomForestClassifier(bootstrap=True, class_weight=None, criterion='gini',\n",
       "            max_depth=None, max_features='auto', max_leaf_nodes=None,\n",
       "            min_impurity_split=1e-07, min_samples_leaf=1,\n",
       "            min_samples_split=2, min_weight_fraction_leaf=0.0,\n",
       "            n_estimators=10, n_jobs=1, oob_score=False, random_state=None,\n",
       "            verbose=0, warm_start=False)"
      ]
     },
     "execution_count": 56,
     "metadata": {},
     "output_type": "execute_result"
    }
   ],
   "source": [
    "%%time\n",
    "rf.fit(x_train, y_train)"
   ]
  },
  {
   "cell_type": "code",
   "execution_count": 57,
   "metadata": {
    "collapsed": true
   },
   "outputs": [],
   "source": [
    "rf_parameters = {'n_estimators': (50, 100, 200),\\\n",
    "               'criterion': ('gini', 'entropy'),\\\n",
    "               'class_weight': (None, 'balanced'),\\\n",
    "               'min_samples_split': (10,20,30)}"
   ]
  },
  {
   "cell_type": "code",
   "execution_count": 58,
   "metadata": {
    "collapsed": true
   },
   "outputs": [],
   "source": [
    "wv_rf = GridSearchCV(rf, rf_parameters, n_jobs=-1, scoring='f1')"
   ]
  },
  {
   "cell_type": "code",
   "execution_count": 59,
   "metadata": {},
   "outputs": [
    {
     "name": "stdout",
     "output_type": "stream",
     "text": [
      "CPU times: user 2min 12s, sys: 3.18 s, total: 2min 15s\n",
      "Wall time: 16min 57s\n"
     ]
    }
   ],
   "source": [
    "%%time\n",
    "wv_rf = wv_rf.fit(x_train, y_train)"
   ]
  },
  {
   "cell_type": "code",
   "execution_count": 60,
   "metadata": {},
   "outputs": [
    {
     "data": {
      "text/plain": [
       "{'class_weight': 'balanced',\n",
       " 'criterion': 'entropy',\n",
       " 'min_samples_split': 30,\n",
       " 'n_estimators': 200}"
      ]
     },
     "execution_count": 60,
     "metadata": {},
     "output_type": "execute_result"
    }
   ],
   "source": [
    "wv_rf.best_params_"
   ]
  },
  {
   "cell_type": "code",
   "execution_count": 61,
   "metadata": {},
   "outputs": [
    {
     "name": "stdout",
     "output_type": "stream",
     "text": [
      "CPU times: user 369 ms, sys: 11.3 ms, total: 381 ms\n",
      "Wall time: 381 ms\n"
     ]
    }
   ],
   "source": [
    "%%time\n",
    "rf_predicted = wv_rf.predict(x_test)"
   ]
  },
  {
   "cell_type": "code",
   "execution_count": 62,
   "metadata": {},
   "outputs": [
    {
     "name": "stdout",
     "output_type": "stream",
     "text": [
      "Train score: 0.255530255637\n",
      "Test score: 0.399167009967\n",
      "Confusion Matrix\n",
      " [[4318  397]\n",
      " [ 632 1576]]\n",
      "Classification Report:\n",
      "              precision    recall  f1-score   support\n",
      "\n",
      "          0       0.87      0.92      0.89      4715\n",
      "          1       0.80      0.71      0.75      2208\n",
      "\n",
      "avg / total       0.85      0.85      0.85      6923\n",
      "\n",
      "CPU times: user 1.89 s, sys: 68.2 ms, total: 1.95 s\n",
      "Wall time: 1.97 s\n"
     ]
    },
    {
     "data": {
      "text/plain": [
       "0.39916700996666682"
      ]
     },
     "execution_count": 62,
     "metadata": {},
     "output_type": "execute_result"
    }
   ],
   "source": [
    "%%time\n",
    "# Get more detailed performance metrics\n",
    "evaluate_model(wv_rf, y_test, rf_predicted)"
   ]
  },
  {
   "cell_type": "code",
   "execution_count": 63,
   "metadata": {},
   "outputs": [
    {
     "name": "stdout",
     "output_type": "stream",
     "text": [
      "Train score: 0.842234437545\n",
      "Test score: 0.841160745847\n",
      "CPU times: user 2min 7s, sys: 269 ms, total: 2min 8s\n",
      "Wall time: 2min 8s\n"
     ]
    }
   ],
   "source": [
    "%%time\n",
    "train_loss = metrics.roc_auc_score(y_train, wv_svm.predict(x_train))\n",
    "test_loss = metrics.roc_auc_score(y_test, wv_svm.predict(x_test))\n",
    "print(\"Train score:\", train_loss)\n",
    "print(\"Test score:\", test_loss)"
   ]
  },
  {
   "cell_type": "code",
   "execution_count": 64,
   "metadata": {},
   "outputs": [
    {
     "name": "stdout",
     "output_type": "stream",
     "text": [
      "CPU times: user 2min 7s, sys: 288 ms, total: 2min 8s\n",
      "Wall time: 2min 8s\n"
     ]
    },
    {
     "data": {
      "image/png": "[encoded data removed]",
      "text/plain": [
       "<matplotlib.figure.Figure at 0x108dcd7b8>"
      ]
     },
     "metadata": {},
     "output_type": "display_data"
    }
   ],
   "source": [
    "%%time\n",
    "A=sklearn.metrics.roc_curve(y_train,wv_svm.predict(x_train),pos_label=1)\n",
    "B=sklearn.metrics.roc_curve(y_test,wv_svm.predict(x_test),pos_label=1)\n",
    "\n",
    "plt.plot(A[0],A[1],label='ROC NB Train')\n",
    "plt.plot(B[0],B[1],label='ROC NB Test')\n",
    "plt.xlim((-0.2,1.1))\n",
    "plt.ylim((-0.1,1.1))\n",
    "plt.legend(loc=4)"
   ]
  },
  {
   "cell_type": "code",
   "execution_count": 65,
   "metadata": {
    "collapsed": true
   },
   "outputs": [],
   "source": [
    "# saving svm model\n",
    "filename = 'wv_rf_model.sav'\n",
    "pickle.dump(wv_rf, open(filename, 'wb'))"
   ]
  }
 ],
 "metadata": {
  "kernelspec": {
   "display_name": "Python 3",
   "language": "python",
   "name": "python3"
  },
  "language_info": {
   "codemirror_mode": {
    "name": "ipython",
    "version": 3
   },
   "file_extension": ".py",
   "mimetype": "text/x-python",
   "name": "python",
   "nbconvert_exporter": "python",
   "pygments_lexer": "ipython3",
   "version": "3.5.3"
  }
 },
 "nbformat": 4,
 "nbformat_minor": 2
}
